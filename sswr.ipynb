{
  "nbformat": 4,
  "nbformat_minor": 0,
  "metadata": {
    "colab": {
      "name": "sswr.ipynb",
      "provenance": [],
      "machine_shape": "hm",
      "include_colab_link": true
    },
    "kernelspec": {
      "name": "python3",
      "display_name": "Python 3"
    }
  },
  "cells": [
    {
      "cell_type": "markdown",
      "metadata": {
        "id": "view-in-github",
        "colab_type": "text"
      },
      "source": [
        "<a href=\"https://colab.research.google.com/github/chengren/NPOs/blob/master/sswr.ipynb\" target=\"_parent\"><img src=\"https://colab.research.google.com/assets/colab-badge.svg\" alt=\"Open In Colab\"/></a>"
      ]
    },
    {
      "cell_type": "code",
      "metadata": {
        "id": "GhyGHb9YFFQe",
        "colab_type": "code",
        "outputId": "be56ed83-f25a-404f-d115-3087994ae0de",
        "colab": {
          "base_uri": "https://localhost:8080/",
          "height": 123
        }
      },
      "source": [
        "from google.colab import drive\n",
        "drive.mount('/content/drive/')"
      ],
      "execution_count": 0,
      "outputs": [
        {
          "output_type": "stream",
          "text": [
            "Go to this URL in a browser: https://accounts.google.com/o/oauth2/auth?client_id=947318989803-6bn6qk8qdgf4n4g3pfee6491hc0brc4i.apps.googleusercontent.com&redirect_uri=urn%3aietf%3awg%3aoauth%3a2.0%3aoob&response_type=code&scope=email%20https%3a%2f%2fwww.googleapis.com%2fauth%2fdocs.test%20https%3a%2f%2fwww.googleapis.com%2fauth%2fdrive%20https%3a%2f%2fwww.googleapis.com%2fauth%2fdrive.photos.readonly%20https%3a%2f%2fwww.googleapis.com%2fauth%2fpeopleapi.readonly\n",
            "\n",
            "Enter your authorization code:\n",
            "··········\n",
            "Mounted at /content/drive/\n"
          ],
          "name": "stdout"
        }
      ]
    },
    {
      "cell_type": "code",
      "metadata": {
        "id": "s6m6ObN2FY9W",
        "colab_type": "code",
        "colab": {}
      },
      "source": [
        "filepath='/content/drive/My Drive/Colab Notebooks/sswr/human_service_pr_com.csv'"
      ],
      "execution_count": 0,
      "outputs": []
    },
    {
      "cell_type": "code",
      "metadata": {
        "id": "DP0lZ7_IFfIn",
        "colab_type": "code",
        "outputId": "f565812a-f22b-4a11-8917-81045e03348e",
        "colab": {
          "base_uri": "https://localhost:8080/",
          "height": 157
        }
      },
      "source": [
        "#Import all the dependencies\n",
        "import pandas as pd\n",
        "import numpy as np\n",
        "from sklearn.metrics import accuracy_score\n",
        "from sklearn.metrics import confusion_matrix\n",
        "import re\n",
        "from sklearn.ensemble import RandomForestClassifier\n",
        "from sklearn.preprocessing import StandardScaler\n",
        "from sklearn.model_selection import train_test_split\n",
        "from sklearn.feature_extraction.text import TfidfVectorizer\n",
        "from sklearn.linear_model import LogisticRegression\n",
        "import nltk\n",
        "from textblob import TextBlob\n",
        "from nltk.corpus import stopwords\n",
        "nltk.download('stopwords')\n",
        "from nltk.sentiment.vader import SentimentIntensityAnalyzer\n",
        "nltk.download('vader_lexicon')\n",
        "import xgboost as xgb\n",
        "from nltk.stem import PorterStemmer\n",
        "from nltk import word_tokenize\n",
        "nltk.download('punkt')\n",
        "from wordcloud import WordCloud \n",
        "import seaborn as sns\n",
        "import matplotlib.pyplot as plt\n",
        "import statsmodels.api as sm\n",
        "from statsmodels.formula.api import ols"
      ],
      "execution_count": 0,
      "outputs": [
        {
          "output_type": "stream",
          "text": [
            "[nltk_data] Downloading package stopwords to /root/nltk_data...\n",
            "[nltk_data]   Unzipping corpora/stopwords.zip.\n",
            "[nltk_data] Downloading package vader_lexicon to /root/nltk_data...\n"
          ],
          "name": "stdout"
        },
        {
          "output_type": "stream",
          "text": [
            "/usr/local/lib/python3.6/dist-packages/nltk/twitter/__init__.py:20: UserWarning: The twython library has not been installed. Some functionality from the twitter package will not be available.\n",
            "  warnings.warn(\"The twython library has not been installed. \"\n"
          ],
          "name": "stderr"
        },
        {
          "output_type": "stream",
          "text": [
            "[nltk_data] Downloading package punkt to /root/nltk_data...\n",
            "[nltk_data]   Unzipping tokenizers/punkt.zip.\n"
          ],
          "name": "stdout"
        }
      ]
    },
    {
      "cell_type": "code",
      "metadata": {
        "id": "2l1FforHFkAo",
        "colab_type": "code",
        "outputId": "fa5ead8e-64df-4f97-8ef4-a4e67e2dab54",
        "colab": {
          "base_uri": "https://localhost:8080/",
          "height": 34
        }
      },
      "source": [
        "df = pd.read_csv(filepath)\n",
        "print('load')"
      ],
      "execution_count": 0,
      "outputs": [
        {
          "output_type": "stream",
          "text": [
            "load\n"
          ],
          "name": "stdout"
        }
      ]
    },
    {
      "cell_type": "code",
      "metadata": {
        "id": "vjbnuW6tFycR",
        "colab_type": "code",
        "outputId": "4aff5571-204e-4da4-deda-e9e9086561be",
        "colab": {
          "base_uri": "https://localhost:8080/",
          "height": 429
        }
      },
      "source": [
        "df.head()"
      ],
      "execution_count": 0,
      "outputs": [
        {
          "output_type": "execute_result",
          "data": {
            "text/html": [
              "<div>\n",
              "<style scoped>\n",
              "    .dataframe tbody tr th:only-of-type {\n",
              "        vertical-align: middle;\n",
              "    }\n",
              "\n",
              "    .dataframe tbody tr th {\n",
              "        vertical-align: top;\n",
              "    }\n",
              "\n",
              "    .dataframe thead th {\n",
              "        text-align: right;\n",
              "    }\n",
              "</style>\n",
              "<table border=\"1\" class=\"dataframe\">\n",
              "  <thead>\n",
              "    <tr style=\"text-align: right;\">\n",
              "      <th></th>\n",
              "      <th>ein</th>\n",
              "      <th>ntee1</th>\n",
              "      <th>ntee</th>\n",
              "      <th>state</th>\n",
              "      <th>name</th>\n",
              "      <th>address</th>\n",
              "      <th>city</th>\n",
              "      <th>zip</th>\n",
              "      <th>n</th>\n",
              "      <th>fre</th>\n",
              "      <th>start_year</th>\n",
              "      <th>end_year</th>\n",
              "      <th>ave_rate</th>\n",
              "      <th>totrev_mean</th>\n",
              "      <th>tot_pub_sup_mean</th>\n",
              "      <th>secur_mean</th>\n",
              "      <th>salesexp_mean</th>\n",
              "      <th>invinc_mean</th>\n",
              "      <th>solicit_mean</th>\n",
              "      <th>goods_mean</th>\n",
              "      <th>grprof_mean</th>\n",
              "      <th>grrec_mean</th>\n",
              "      <th>exps_mean</th>\n",
              "      <th>fundbal_mean</th>\n",
              "      <th>compens_mean</th>\n",
              "      <th>fundfees_mean</th>\n",
              "      <th>ass_boy_mean</th>\n",
              "      <th>ass_eoy_mean</th>\n",
              "      <th>liab_boy_mean</th>\n",
              "      <th>liab_eoy_mean</th>\n",
              "      <th>progrev_mean</th>\n",
              "      <th>prg_pre_total_mean</th>\n",
              "      <th>net_mean</th>\n",
              "      <th>ast_gain_mean</th>\n",
              "      <th>lab_gain_mean</th>\n",
              "      <th>gap_end_mean</th>\n",
              "      <th>ins_pre_total_mean</th>\n",
              "      <th>con_pre_total_mean</th>\n",
              "      <th>p_rate2_mean</th>\n",
              "      <th>pd_mean</th>\n",
              "      <th>totrev_median</th>\n",
              "      <th>tot_pub_sup_median</th>\n",
              "      <th>secur_median</th>\n",
              "      <th>salesexp_median</th>\n",
              "      <th>invinc_median</th>\n",
              "      <th>solicit_median</th>\n",
              "      <th>goods_median</th>\n",
              "      <th>grprof_median</th>\n",
              "      <th>grrec_median</th>\n",
              "      <th>exps_median</th>\n",
              "      <th>fundbal_median</th>\n",
              "      <th>compens_median</th>\n",
              "      <th>fundfees_median</th>\n",
              "      <th>ass_boy_median</th>\n",
              "      <th>ass_eoy_median</th>\n",
              "      <th>liab_boy_median</th>\n",
              "      <th>liab_eoy_median</th>\n",
              "      <th>progrev_median</th>\n",
              "      <th>prg_pre_total_median</th>\n",
              "      <th>net_median</th>\n",
              "      <th>ast_gain_median</th>\n",
              "      <th>lab_gain_median</th>\n",
              "      <th>gap_end_median</th>\n",
              "      <th>ins_pre_total_median</th>\n",
              "      <th>con_pre_total_median</th>\n",
              "      <th>p_rate2_median</th>\n",
              "      <th>pd_median</th>\n",
              "    </tr>\n",
              "  </thead>\n",
              "  <tbody>\n",
              "    <tr>\n",
              "      <th>0</th>\n",
              "      <td>10015091</td>\n",
              "      <td>N</td>\n",
              "      <td>N64</td>\n",
              "      <td>NJ</td>\n",
              "      <td>HANOVER SOCCER CLUB INC</td>\n",
              "      <td>PO BOX 13</td>\n",
              "      <td>CEDAR KNOLLS</td>\n",
              "      <td>07927-0013</td>\n",
              "      <td>4</td>\n",
              "      <td>4</td>\n",
              "      <td>2012</td>\n",
              "      <td>2015</td>\n",
              "      <td>-0.955951</td>\n",
              "      <td>120275.250000</td>\n",
              "      <td>0.000000</td>\n",
              "      <td>NaN</td>\n",
              "      <td>0.000000</td>\n",
              "      <td>25.250000</td>\n",
              "      <td>0.00</td>\n",
              "      <td>0.000000</td>\n",
              "      <td>0.000000</td>\n",
              "      <td>120275.250000</td>\n",
              "      <td>119939.000000</td>\n",
              "      <td>60436.250000</td>\n",
              "      <td>0.0</td>\n",
              "      <td>0.0</td>\n",
              "      <td>61533.333333</td>\n",
              "      <td>60436.250000</td>\n",
              "      <td>0.000000</td>\n",
              "      <td>0.00000</td>\n",
              "      <td>120250.000000</td>\n",
              "      <td>99.978704</td>\n",
              "      <td>336.250000</td>\n",
              "      <td>2036.000000</td>\n",
              "      <td>0.000000</td>\n",
              "      <td>60436.250000</td>\n",
              "      <td>0.021296</td>\n",
              "      <td>0.000000</td>\n",
              "      <td>3.200</td>\n",
              "      <td>0.0</td>\n",
              "      <td>115563.5</td>\n",
              "      <td>0.0</td>\n",
              "      <td>NaN</td>\n",
              "      <td>0.0</td>\n",
              "      <td>25.0</td>\n",
              "      <td>0.0</td>\n",
              "      <td>0.0</td>\n",
              "      <td>0.0</td>\n",
              "      <td>115563.5</td>\n",
              "      <td>118579.5</td>\n",
              "      <td>58924.5</td>\n",
              "      <td>0.0</td>\n",
              "      <td>0.0</td>\n",
              "      <td>60704.0</td>\n",
              "      <td>58924.5</td>\n",
              "      <td>0.0</td>\n",
              "      <td>0.0</td>\n",
              "      <td>115538.5</td>\n",
              "      <td>99.978317</td>\n",
              "      <td>2452.0</td>\n",
              "      <td>9667.0</td>\n",
              "      <td>0.0</td>\n",
              "      <td>58924.5</td>\n",
              "      <td>0.021683</td>\n",
              "      <td>0.000000</td>\n",
              "      <td>3.2</td>\n",
              "      <td>0.0</td>\n",
              "    </tr>\n",
              "    <tr>\n",
              "      <th>1</th>\n",
              "      <td>10017496</td>\n",
              "      <td>N</td>\n",
              "      <td>N50</td>\n",
              "      <td>ME</td>\n",
              "      <td>AGAMENTICUS YACHT CLUB OF YORK</td>\n",
              "      <td>PO BOX 534</td>\n",
              "      <td>YORK HARBOR</td>\n",
              "      <td>03911-0534</td>\n",
              "      <td>22</td>\n",
              "      <td>22</td>\n",
              "      <td>1993</td>\n",
              "      <td>2015</td>\n",
              "      <td>-5.822708</td>\n",
              "      <td>99725.045455</td>\n",
              "      <td>23677.954545</td>\n",
              "      <td>1617.588235</td>\n",
              "      <td>1072.684211</td>\n",
              "      <td>2716.045455</td>\n",
              "      <td>0.00</td>\n",
              "      <td>1566.818182</td>\n",
              "      <td>1163.227273</td>\n",
              "      <td>108832.136364</td>\n",
              "      <td>93657.318182</td>\n",
              "      <td>222622.500000</td>\n",
              "      <td>0.0</td>\n",
              "      <td>0.0</td>\n",
              "      <td>216900.500000</td>\n",
              "      <td>222601.545455</td>\n",
              "      <td>0.000000</td>\n",
              "      <td>24.50000</td>\n",
              "      <td>47215.772727</td>\n",
              "      <td>48.006025</td>\n",
              "      <td>6067.727273</td>\n",
              "      <td>5701.045455</td>\n",
              "      <td>24.500000</td>\n",
              "      <td>222577.045455</td>\n",
              "      <td>3.279823</td>\n",
              "      <td>19.550125</td>\n",
              "      <td>22.200</td>\n",
              "      <td>1.0</td>\n",
              "      <td>103856.0</td>\n",
              "      <td>13019.5</td>\n",
              "      <td>0.0</td>\n",
              "      <td>0.0</td>\n",
              "      <td>1681.5</td>\n",
              "      <td>0.0</td>\n",
              "      <td>1925.5</td>\n",
              "      <td>232.5</td>\n",
              "      <td>109991.5</td>\n",
              "      <td>94675.0</td>\n",
              "      <td>231054.0</td>\n",
              "      <td>0.0</td>\n",
              "      <td>0.0</td>\n",
              "      <td>225683.0</td>\n",
              "      <td>231054.0</td>\n",
              "      <td>0.0</td>\n",
              "      <td>0.0</td>\n",
              "      <td>37079.0</td>\n",
              "      <td>40.983484</td>\n",
              "      <td>2518.5</td>\n",
              "      <td>-1227.0</td>\n",
              "      <td>0.0</td>\n",
              "      <td>231054.0</td>\n",
              "      <td>1.673757</td>\n",
              "      <td>16.239653</td>\n",
              "      <td>22.2</td>\n",
              "      <td>1.0</td>\n",
              "    </tr>\n",
              "    <tr>\n",
              "      <th>2</th>\n",
              "      <td>10088397</td>\n",
              "      <td>N</td>\n",
              "      <td>N65</td>\n",
              "      <td>NJ</td>\n",
              "      <td>POP WARNER LITTLE SCHOLARS INC</td>\n",
              "      <td>1019 WHEATSHEAF RD</td>\n",
              "      <td>LINDEN</td>\n",
              "      <td>07036-2918</td>\n",
              "      <td>2</td>\n",
              "      <td>3</td>\n",
              "      <td>2008</td>\n",
              "      <td>2010</td>\n",
              "      <td>0.000000</td>\n",
              "      <td>36894.000000</td>\n",
              "      <td>36894.000000</td>\n",
              "      <td>0.000000</td>\n",
              "      <td>0.000000</td>\n",
              "      <td>0.000000</td>\n",
              "      <td>0.00</td>\n",
              "      <td>0.000000</td>\n",
              "      <td>0.000000</td>\n",
              "      <td>36894.000000</td>\n",
              "      <td>42113.000000</td>\n",
              "      <td>3599.000000</td>\n",
              "      <td>0.0</td>\n",
              "      <td>0.0</td>\n",
              "      <td>8818.000000</td>\n",
              "      <td>3599.000000</td>\n",
              "      <td>0.000000</td>\n",
              "      <td>0.00000</td>\n",
              "      <td>0.000000</td>\n",
              "      <td>0.000000</td>\n",
              "      <td>-5219.000000</td>\n",
              "      <td>-5219.000000</td>\n",
              "      <td>0.000000</td>\n",
              "      <td>3599.000000</td>\n",
              "      <td>0.000000</td>\n",
              "      <td>100.000000</td>\n",
              "      <td>10.200</td>\n",
              "      <td>0.0</td>\n",
              "      <td>36894.0</td>\n",
              "      <td>36894.0</td>\n",
              "      <td>0.0</td>\n",
              "      <td>0.0</td>\n",
              "      <td>0.0</td>\n",
              "      <td>0.0</td>\n",
              "      <td>0.0</td>\n",
              "      <td>0.0</td>\n",
              "      <td>36894.0</td>\n",
              "      <td>42113.0</td>\n",
              "      <td>3599.0</td>\n",
              "      <td>0.0</td>\n",
              "      <td>0.0</td>\n",
              "      <td>8818.0</td>\n",
              "      <td>3599.0</td>\n",
              "      <td>0.0</td>\n",
              "      <td>0.0</td>\n",
              "      <td>0.0</td>\n",
              "      <td>0.000000</td>\n",
              "      <td>-5219.0</td>\n",
              "      <td>-5219.0</td>\n",
              "      <td>0.0</td>\n",
              "      <td>3599.0</td>\n",
              "      <td>0.000000</td>\n",
              "      <td>100.000000</td>\n",
              "      <td>10.2</td>\n",
              "      <td>0.0</td>\n",
              "    </tr>\n",
              "    <tr>\n",
              "      <th>3</th>\n",
              "      <td>10133442</td>\n",
              "      <td>N</td>\n",
              "      <td>N11</td>\n",
              "      <td>ME</td>\n",
              "      <td>OXFORD COUNTY AGRICULTURAL SOCIETY</td>\n",
              "      <td>PO BOX 193</td>\n",
              "      <td>NORWAY</td>\n",
              "      <td>04268-0193</td>\n",
              "      <td>13</td>\n",
              "      <td>20</td>\n",
              "      <td>1994</td>\n",
              "      <td>2015</td>\n",
              "      <td>-17.886732</td>\n",
              "      <td>390306.550000</td>\n",
              "      <td>169373.850000</td>\n",
              "      <td>82000.000000</td>\n",
              "      <td>39418.600000</td>\n",
              "      <td>2615.750000</td>\n",
              "      <td>903.15</td>\n",
              "      <td>259.400000</td>\n",
              "      <td>218.100000</td>\n",
              "      <td>430014.550000</td>\n",
              "      <td>348721.500000</td>\n",
              "      <td>493329.050000</td>\n",
              "      <td>150.0</td>\n",
              "      <td>0.0</td>\n",
              "      <td>565059.578947</td>\n",
              "      <td>634100.650000</td>\n",
              "      <td>137245.526316</td>\n",
              "      <td>140710.20000</td>\n",
              "      <td>154325.350000</td>\n",
              "      <td>54.777937</td>\n",
              "      <td>41585.050000</td>\n",
              "      <td>43880.947368</td>\n",
              "      <td>9186.263158</td>\n",
              "      <td>493390.450000</td>\n",
              "      <td>1.019905</td>\n",
              "      <td>33.419440</td>\n",
              "      <td>17.495</td>\n",
              "      <td>1.0</td>\n",
              "      <td>370526.5</td>\n",
              "      <td>119075.5</td>\n",
              "      <td>0.0</td>\n",
              "      <td>0.0</td>\n",
              "      <td>256.0</td>\n",
              "      <td>0.0</td>\n",
              "      <td>0.0</td>\n",
              "      <td>0.0</td>\n",
              "      <td>370526.5</td>\n",
              "      <td>307045.0</td>\n",
              "      <td>586777.0</td>\n",
              "      <td>0.0</td>\n",
              "      <td>0.0</td>\n",
              "      <td>128808.0</td>\n",
              "      <td>743001.0</td>\n",
              "      <td>25000.0</td>\n",
              "      <td>27850.0</td>\n",
              "      <td>120745.5</td>\n",
              "      <td>55.304609</td>\n",
              "      <td>19637.0</td>\n",
              "      <td>-2367.0</td>\n",
              "      <td>0.0</td>\n",
              "      <td>587386.0</td>\n",
              "      <td>0.068472</td>\n",
              "      <td>38.752394</td>\n",
              "      <td>18.3</td>\n",
              "      <td>1.0</td>\n",
              "    </tr>\n",
              "    <tr>\n",
              "      <th>4</th>\n",
              "      <td>10153128</td>\n",
              "      <td>N</td>\n",
              "      <td>N31</td>\n",
              "      <td>ME</td>\n",
              "      <td>GREATER RUMFORD COMMUNITY CENTER</td>\n",
              "      <td>50 CONGRESS ST</td>\n",
              "      <td>RUMFORD</td>\n",
              "      <td>04276-2002</td>\n",
              "      <td>16</td>\n",
              "      <td>23</td>\n",
              "      <td>1989</td>\n",
              "      <td>2015</td>\n",
              "      <td>-6.858566</td>\n",
              "      <td>299572.260870</td>\n",
              "      <td>123304.434783</td>\n",
              "      <td>0.000000</td>\n",
              "      <td>0.000000</td>\n",
              "      <td>3408.043478</td>\n",
              "      <td>0.00</td>\n",
              "      <td>10090.826087</td>\n",
              "      <td>5635.260870</td>\n",
              "      <td>327535.086957</td>\n",
              "      <td>304830.565217</td>\n",
              "      <td>239054.173913</td>\n",
              "      <td>0.0</td>\n",
              "      <td>0.0</td>\n",
              "      <td>328378.000000</td>\n",
              "      <td>318965.913043</td>\n",
              "      <td>81372.347826</td>\n",
              "      <td>79911.73913</td>\n",
              "      <td>135975.565217</td>\n",
              "      <td>50.071818</td>\n",
              "      <td>-5258.304348</td>\n",
              "      <td>-9412.086957</td>\n",
              "      <td>-1460.608696</td>\n",
              "      <td>239054.173913</td>\n",
              "      <td>1.468269</td>\n",
              "      <td>36.196761</td>\n",
              "      <td>18.600</td>\n",
              "      <td>1.0</td>\n",
              "      <td>281753.0</td>\n",
              "      <td>144982.0</td>\n",
              "      <td>0.0</td>\n",
              "      <td>0.0</td>\n",
              "      <td>1092.0</td>\n",
              "      <td>0.0</td>\n",
              "      <td>5617.0</td>\n",
              "      <td>1967.0</td>\n",
              "      <td>288259.0</td>\n",
              "      <td>291462.0</td>\n",
              "      <td>72891.0</td>\n",
              "      <td>0.0</td>\n",
              "      <td>0.0</td>\n",
              "      <td>215534.0</td>\n",
              "      <td>210456.0</td>\n",
              "      <td>81153.0</td>\n",
              "      <td>59561.0</td>\n",
              "      <td>150094.0</td>\n",
              "      <td>49.595488</td>\n",
              "      <td>-4669.0</td>\n",
              "      <td>-1111.0</td>\n",
              "      <td>-1912.0</td>\n",
              "      <td>72891.0</td>\n",
              "      <td>0.369271</td>\n",
              "      <td>38.218469</td>\n",
              "      <td>18.6</td>\n",
              "      <td>1.0</td>\n",
              "    </tr>\n",
              "  </tbody>\n",
              "</table>\n",
              "</div>"
            ],
            "text/plain": [
              "        ein ntee1 ntee  ... con_pre_total_median p_rate2_median pd_median\n",
              "0  10015091     N  N64  ...             0.000000            3.2       0.0\n",
              "1  10017496     N  N50  ...            16.239653           22.2       1.0\n",
              "2  10088397     N  N65  ...           100.000000           10.2       0.0\n",
              "3  10133442     N  N11  ...            38.752394           18.3       1.0\n",
              "4  10153128     N  N31  ...            38.218469           18.6       1.0\n",
              "\n",
              "[5 rows x 67 columns]"
            ]
          },
          "metadata": {
            "tags": []
          },
          "execution_count": 15
        }
      ]
    },
    {
      "cell_type": "code",
      "metadata": {
        "id": "x5DOegk5G1S9",
        "colab_type": "code",
        "outputId": "53e92b99-6051-4047-87ab-a65a113a678c",
        "colab": {
          "base_uri": "https://localhost:8080/",
          "height": 172
        }
      },
      "source": [
        "df['dummy']=0\n",
        "df['dummy'][df.end_year<2013]=1\n",
        "print(df.shape)\n",
        "df.dummy.value_counts()"
      ],
      "execution_count": 0,
      "outputs": [
        {
          "output_type": "stream",
          "text": [
            "(221140, 76)\n"
          ],
          "name": "stdout"
        },
        {
          "output_type": "stream",
          "text": [
            "/usr/local/lib/python3.6/dist-packages/ipykernel_launcher.py:2: SettingWithCopyWarning: \n",
            "A value is trying to be set on a copy of a slice from a DataFrame\n",
            "\n",
            "See the caveats in the documentation: http://pandas.pydata.org/pandas-docs/stable/user_guide/indexing.html#returning-a-view-versus-a-copy\n",
            "  \n"
          ],
          "name": "stderr"
        },
        {
          "output_type": "execute_result",
          "data": {
            "text/plain": [
              "0    154985\n",
              "1     66155\n",
              "Name: dummy, dtype: int64"
            ]
          },
          "metadata": {
            "tags": []
          },
          "execution_count": 18
        }
      ]
    },
    {
      "cell_type": "code",
      "metadata": {
        "id": "_4jlaomMpA--",
        "colab_type": "code",
        "outputId": "5137882b-1e59-4cb1-af88-eef9786b190c",
        "colab": {
          "base_uri": "https://localhost:8080/",
          "height": 429
        }
      },
      "source": [
        "dummy_type=pd.get_dummies(df['ntee1'])\n",
        "df=pd.concat([df,dummy_type],axis=1)\n",
        "df.head()"
      ],
      "execution_count": 0,
      "outputs": [
        {
          "output_type": "execute_result",
          "data": {
            "text/html": [
              "<div>\n",
              "<style scoped>\n",
              "    .dataframe tbody tr th:only-of-type {\n",
              "        vertical-align: middle;\n",
              "    }\n",
              "\n",
              "    .dataframe tbody tr th {\n",
              "        vertical-align: top;\n",
              "    }\n",
              "\n",
              "    .dataframe thead th {\n",
              "        text-align: right;\n",
              "    }\n",
              "</style>\n",
              "<table border=\"1\" class=\"dataframe\">\n",
              "  <thead>\n",
              "    <tr style=\"text-align: right;\">\n",
              "      <th></th>\n",
              "      <th>ein</th>\n",
              "      <th>ntee1</th>\n",
              "      <th>ntee</th>\n",
              "      <th>state</th>\n",
              "      <th>name</th>\n",
              "      <th>address</th>\n",
              "      <th>city</th>\n",
              "      <th>zip</th>\n",
              "      <th>n</th>\n",
              "      <th>fre</th>\n",
              "      <th>start_year</th>\n",
              "      <th>end_year</th>\n",
              "      <th>ave_rate</th>\n",
              "      <th>totrev_mean</th>\n",
              "      <th>tot_pub_sup_mean</th>\n",
              "      <th>secur_mean</th>\n",
              "      <th>salesexp_mean</th>\n",
              "      <th>invinc_mean</th>\n",
              "      <th>solicit_mean</th>\n",
              "      <th>goods_mean</th>\n",
              "      <th>grprof_mean</th>\n",
              "      <th>grrec_mean</th>\n",
              "      <th>exps_mean</th>\n",
              "      <th>fundbal_mean</th>\n",
              "      <th>compens_mean</th>\n",
              "      <th>fundfees_mean</th>\n",
              "      <th>ass_boy_mean</th>\n",
              "      <th>ass_eoy_mean</th>\n",
              "      <th>liab_boy_mean</th>\n",
              "      <th>liab_eoy_mean</th>\n",
              "      <th>progrev_mean</th>\n",
              "      <th>prg_pre_total_mean</th>\n",
              "      <th>net_mean</th>\n",
              "      <th>ast_gain_mean</th>\n",
              "      <th>lab_gain_mean</th>\n",
              "      <th>gap_end_mean</th>\n",
              "      <th>ins_pre_total_mean</th>\n",
              "      <th>con_pre_total_mean</th>\n",
              "      <th>p_rate2_mean</th>\n",
              "      <th>pd_mean</th>\n",
              "      <th>totrev_median</th>\n",
              "      <th>tot_pub_sup_median</th>\n",
              "      <th>secur_median</th>\n",
              "      <th>salesexp_median</th>\n",
              "      <th>invinc_median</th>\n",
              "      <th>solicit_median</th>\n",
              "      <th>goods_median</th>\n",
              "      <th>grprof_median</th>\n",
              "      <th>grrec_median</th>\n",
              "      <th>exps_median</th>\n",
              "      <th>fundbal_median</th>\n",
              "      <th>compens_median</th>\n",
              "      <th>fundfees_median</th>\n",
              "      <th>ass_boy_median</th>\n",
              "      <th>ass_eoy_median</th>\n",
              "      <th>liab_boy_median</th>\n",
              "      <th>liab_eoy_median</th>\n",
              "      <th>progrev_median</th>\n",
              "      <th>prg_pre_total_median</th>\n",
              "      <th>net_median</th>\n",
              "      <th>ast_gain_median</th>\n",
              "      <th>lab_gain_median</th>\n",
              "      <th>gap_end_median</th>\n",
              "      <th>ins_pre_total_median</th>\n",
              "      <th>con_pre_total_median</th>\n",
              "      <th>p_rate2_median</th>\n",
              "      <th>pd_median</th>\n",
              "      <th>dummy</th>\n",
              "      <th>I</th>\n",
              "      <th>J</th>\n",
              "      <th>K</th>\n",
              "      <th>L</th>\n",
              "      <th>M</th>\n",
              "      <th>N</th>\n",
              "      <th>O</th>\n",
              "      <th>P</th>\n",
              "    </tr>\n",
              "  </thead>\n",
              "  <tbody>\n",
              "    <tr>\n",
              "      <th>0</th>\n",
              "      <td>10015091</td>\n",
              "      <td>N</td>\n",
              "      <td>N64</td>\n",
              "      <td>NJ</td>\n",
              "      <td>HANOVER SOCCER CLUB INC</td>\n",
              "      <td>PO BOX 13</td>\n",
              "      <td>CEDAR KNOLLS</td>\n",
              "      <td>07927-0013</td>\n",
              "      <td>4</td>\n",
              "      <td>4</td>\n",
              "      <td>2012</td>\n",
              "      <td>2015</td>\n",
              "      <td>-0.955951</td>\n",
              "      <td>120275.250000</td>\n",
              "      <td>0.000000</td>\n",
              "      <td>NaN</td>\n",
              "      <td>0.000000</td>\n",
              "      <td>25.250000</td>\n",
              "      <td>0.00</td>\n",
              "      <td>0.000000</td>\n",
              "      <td>0.000000</td>\n",
              "      <td>120275.250000</td>\n",
              "      <td>119939.000000</td>\n",
              "      <td>60436.250000</td>\n",
              "      <td>0.0</td>\n",
              "      <td>0.0</td>\n",
              "      <td>61533.333333</td>\n",
              "      <td>60436.250000</td>\n",
              "      <td>0.000000</td>\n",
              "      <td>0.00000</td>\n",
              "      <td>120250.000000</td>\n",
              "      <td>99.978704</td>\n",
              "      <td>336.250000</td>\n",
              "      <td>2036.000000</td>\n",
              "      <td>0.000000</td>\n",
              "      <td>60436.250000</td>\n",
              "      <td>0.021296</td>\n",
              "      <td>0.000000</td>\n",
              "      <td>3.200</td>\n",
              "      <td>0.0</td>\n",
              "      <td>115563.5</td>\n",
              "      <td>0.0</td>\n",
              "      <td>NaN</td>\n",
              "      <td>0.0</td>\n",
              "      <td>25.0</td>\n",
              "      <td>0.0</td>\n",
              "      <td>0.0</td>\n",
              "      <td>0.0</td>\n",
              "      <td>115563.5</td>\n",
              "      <td>118579.5</td>\n",
              "      <td>58924.5</td>\n",
              "      <td>0.0</td>\n",
              "      <td>0.0</td>\n",
              "      <td>60704.0</td>\n",
              "      <td>58924.5</td>\n",
              "      <td>0.0</td>\n",
              "      <td>0.0</td>\n",
              "      <td>115538.5</td>\n",
              "      <td>99.978317</td>\n",
              "      <td>2452.0</td>\n",
              "      <td>9667.0</td>\n",
              "      <td>0.0</td>\n",
              "      <td>58924.5</td>\n",
              "      <td>0.021683</td>\n",
              "      <td>0.000000</td>\n",
              "      <td>3.2</td>\n",
              "      <td>0.0</td>\n",
              "      <td>0</td>\n",
              "      <td>0</td>\n",
              "      <td>0</td>\n",
              "      <td>0</td>\n",
              "      <td>0</td>\n",
              "      <td>0</td>\n",
              "      <td>1</td>\n",
              "      <td>0</td>\n",
              "      <td>0</td>\n",
              "    </tr>\n",
              "    <tr>\n",
              "      <th>1</th>\n",
              "      <td>10017496</td>\n",
              "      <td>N</td>\n",
              "      <td>N50</td>\n",
              "      <td>ME</td>\n",
              "      <td>AGAMENTICUS YACHT CLUB OF YORK</td>\n",
              "      <td>PO BOX 534</td>\n",
              "      <td>YORK HARBOR</td>\n",
              "      <td>03911-0534</td>\n",
              "      <td>22</td>\n",
              "      <td>22</td>\n",
              "      <td>1993</td>\n",
              "      <td>2015</td>\n",
              "      <td>-5.822708</td>\n",
              "      <td>99725.045455</td>\n",
              "      <td>23677.954545</td>\n",
              "      <td>1617.588235</td>\n",
              "      <td>1072.684211</td>\n",
              "      <td>2716.045455</td>\n",
              "      <td>0.00</td>\n",
              "      <td>1566.818182</td>\n",
              "      <td>1163.227273</td>\n",
              "      <td>108832.136364</td>\n",
              "      <td>93657.318182</td>\n",
              "      <td>222622.500000</td>\n",
              "      <td>0.0</td>\n",
              "      <td>0.0</td>\n",
              "      <td>216900.500000</td>\n",
              "      <td>222601.545455</td>\n",
              "      <td>0.000000</td>\n",
              "      <td>24.50000</td>\n",
              "      <td>47215.772727</td>\n",
              "      <td>48.006025</td>\n",
              "      <td>6067.727273</td>\n",
              "      <td>5701.045455</td>\n",
              "      <td>24.500000</td>\n",
              "      <td>222577.045455</td>\n",
              "      <td>3.279823</td>\n",
              "      <td>19.550125</td>\n",
              "      <td>22.200</td>\n",
              "      <td>1.0</td>\n",
              "      <td>103856.0</td>\n",
              "      <td>13019.5</td>\n",
              "      <td>0.0</td>\n",
              "      <td>0.0</td>\n",
              "      <td>1681.5</td>\n",
              "      <td>0.0</td>\n",
              "      <td>1925.5</td>\n",
              "      <td>232.5</td>\n",
              "      <td>109991.5</td>\n",
              "      <td>94675.0</td>\n",
              "      <td>231054.0</td>\n",
              "      <td>0.0</td>\n",
              "      <td>0.0</td>\n",
              "      <td>225683.0</td>\n",
              "      <td>231054.0</td>\n",
              "      <td>0.0</td>\n",
              "      <td>0.0</td>\n",
              "      <td>37079.0</td>\n",
              "      <td>40.983484</td>\n",
              "      <td>2518.5</td>\n",
              "      <td>-1227.0</td>\n",
              "      <td>0.0</td>\n",
              "      <td>231054.0</td>\n",
              "      <td>1.673757</td>\n",
              "      <td>16.239653</td>\n",
              "      <td>22.2</td>\n",
              "      <td>1.0</td>\n",
              "      <td>0</td>\n",
              "      <td>0</td>\n",
              "      <td>0</td>\n",
              "      <td>0</td>\n",
              "      <td>0</td>\n",
              "      <td>0</td>\n",
              "      <td>1</td>\n",
              "      <td>0</td>\n",
              "      <td>0</td>\n",
              "    </tr>\n",
              "    <tr>\n",
              "      <th>2</th>\n",
              "      <td>10088397</td>\n",
              "      <td>N</td>\n",
              "      <td>N65</td>\n",
              "      <td>NJ</td>\n",
              "      <td>POP WARNER LITTLE SCHOLARS INC</td>\n",
              "      <td>1019 WHEATSHEAF RD</td>\n",
              "      <td>LINDEN</td>\n",
              "      <td>07036-2918</td>\n",
              "      <td>2</td>\n",
              "      <td>3</td>\n",
              "      <td>2008</td>\n",
              "      <td>2010</td>\n",
              "      <td>0.000000</td>\n",
              "      <td>36894.000000</td>\n",
              "      <td>36894.000000</td>\n",
              "      <td>0.000000</td>\n",
              "      <td>0.000000</td>\n",
              "      <td>0.000000</td>\n",
              "      <td>0.00</td>\n",
              "      <td>0.000000</td>\n",
              "      <td>0.000000</td>\n",
              "      <td>36894.000000</td>\n",
              "      <td>42113.000000</td>\n",
              "      <td>3599.000000</td>\n",
              "      <td>0.0</td>\n",
              "      <td>0.0</td>\n",
              "      <td>8818.000000</td>\n",
              "      <td>3599.000000</td>\n",
              "      <td>0.000000</td>\n",
              "      <td>0.00000</td>\n",
              "      <td>0.000000</td>\n",
              "      <td>0.000000</td>\n",
              "      <td>-5219.000000</td>\n",
              "      <td>-5219.000000</td>\n",
              "      <td>0.000000</td>\n",
              "      <td>3599.000000</td>\n",
              "      <td>0.000000</td>\n",
              "      <td>100.000000</td>\n",
              "      <td>10.200</td>\n",
              "      <td>0.0</td>\n",
              "      <td>36894.0</td>\n",
              "      <td>36894.0</td>\n",
              "      <td>0.0</td>\n",
              "      <td>0.0</td>\n",
              "      <td>0.0</td>\n",
              "      <td>0.0</td>\n",
              "      <td>0.0</td>\n",
              "      <td>0.0</td>\n",
              "      <td>36894.0</td>\n",
              "      <td>42113.0</td>\n",
              "      <td>3599.0</td>\n",
              "      <td>0.0</td>\n",
              "      <td>0.0</td>\n",
              "      <td>8818.0</td>\n",
              "      <td>3599.0</td>\n",
              "      <td>0.0</td>\n",
              "      <td>0.0</td>\n",
              "      <td>0.0</td>\n",
              "      <td>0.000000</td>\n",
              "      <td>-5219.0</td>\n",
              "      <td>-5219.0</td>\n",
              "      <td>0.0</td>\n",
              "      <td>3599.0</td>\n",
              "      <td>0.000000</td>\n",
              "      <td>100.000000</td>\n",
              "      <td>10.2</td>\n",
              "      <td>0.0</td>\n",
              "      <td>1</td>\n",
              "      <td>0</td>\n",
              "      <td>0</td>\n",
              "      <td>0</td>\n",
              "      <td>0</td>\n",
              "      <td>0</td>\n",
              "      <td>1</td>\n",
              "      <td>0</td>\n",
              "      <td>0</td>\n",
              "    </tr>\n",
              "    <tr>\n",
              "      <th>3</th>\n",
              "      <td>10133442</td>\n",
              "      <td>N</td>\n",
              "      <td>N11</td>\n",
              "      <td>ME</td>\n",
              "      <td>OXFORD COUNTY AGRICULTURAL SOCIETY</td>\n",
              "      <td>PO BOX 193</td>\n",
              "      <td>NORWAY</td>\n",
              "      <td>04268-0193</td>\n",
              "      <td>13</td>\n",
              "      <td>20</td>\n",
              "      <td>1994</td>\n",
              "      <td>2015</td>\n",
              "      <td>-17.886732</td>\n",
              "      <td>390306.550000</td>\n",
              "      <td>169373.850000</td>\n",
              "      <td>82000.000000</td>\n",
              "      <td>39418.600000</td>\n",
              "      <td>2615.750000</td>\n",
              "      <td>903.15</td>\n",
              "      <td>259.400000</td>\n",
              "      <td>218.100000</td>\n",
              "      <td>430014.550000</td>\n",
              "      <td>348721.500000</td>\n",
              "      <td>493329.050000</td>\n",
              "      <td>150.0</td>\n",
              "      <td>0.0</td>\n",
              "      <td>565059.578947</td>\n",
              "      <td>634100.650000</td>\n",
              "      <td>137245.526316</td>\n",
              "      <td>140710.20000</td>\n",
              "      <td>154325.350000</td>\n",
              "      <td>54.777937</td>\n",
              "      <td>41585.050000</td>\n",
              "      <td>43880.947368</td>\n",
              "      <td>9186.263158</td>\n",
              "      <td>493390.450000</td>\n",
              "      <td>1.019905</td>\n",
              "      <td>33.419440</td>\n",
              "      <td>17.495</td>\n",
              "      <td>1.0</td>\n",
              "      <td>370526.5</td>\n",
              "      <td>119075.5</td>\n",
              "      <td>0.0</td>\n",
              "      <td>0.0</td>\n",
              "      <td>256.0</td>\n",
              "      <td>0.0</td>\n",
              "      <td>0.0</td>\n",
              "      <td>0.0</td>\n",
              "      <td>370526.5</td>\n",
              "      <td>307045.0</td>\n",
              "      <td>586777.0</td>\n",
              "      <td>0.0</td>\n",
              "      <td>0.0</td>\n",
              "      <td>128808.0</td>\n",
              "      <td>743001.0</td>\n",
              "      <td>25000.0</td>\n",
              "      <td>27850.0</td>\n",
              "      <td>120745.5</td>\n",
              "      <td>55.304609</td>\n",
              "      <td>19637.0</td>\n",
              "      <td>-2367.0</td>\n",
              "      <td>0.0</td>\n",
              "      <td>587386.0</td>\n",
              "      <td>0.068472</td>\n",
              "      <td>38.752394</td>\n",
              "      <td>18.3</td>\n",
              "      <td>1.0</td>\n",
              "      <td>0</td>\n",
              "      <td>0</td>\n",
              "      <td>0</td>\n",
              "      <td>0</td>\n",
              "      <td>0</td>\n",
              "      <td>0</td>\n",
              "      <td>1</td>\n",
              "      <td>0</td>\n",
              "      <td>0</td>\n",
              "    </tr>\n",
              "    <tr>\n",
              "      <th>4</th>\n",
              "      <td>10153128</td>\n",
              "      <td>N</td>\n",
              "      <td>N31</td>\n",
              "      <td>ME</td>\n",
              "      <td>GREATER RUMFORD COMMUNITY CENTER</td>\n",
              "      <td>50 CONGRESS ST</td>\n",
              "      <td>RUMFORD</td>\n",
              "      <td>04276-2002</td>\n",
              "      <td>16</td>\n",
              "      <td>23</td>\n",
              "      <td>1989</td>\n",
              "      <td>2015</td>\n",
              "      <td>-6.858566</td>\n",
              "      <td>299572.260870</td>\n",
              "      <td>123304.434783</td>\n",
              "      <td>0.000000</td>\n",
              "      <td>0.000000</td>\n",
              "      <td>3408.043478</td>\n",
              "      <td>0.00</td>\n",
              "      <td>10090.826087</td>\n",
              "      <td>5635.260870</td>\n",
              "      <td>327535.086957</td>\n",
              "      <td>304830.565217</td>\n",
              "      <td>239054.173913</td>\n",
              "      <td>0.0</td>\n",
              "      <td>0.0</td>\n",
              "      <td>328378.000000</td>\n",
              "      <td>318965.913043</td>\n",
              "      <td>81372.347826</td>\n",
              "      <td>79911.73913</td>\n",
              "      <td>135975.565217</td>\n",
              "      <td>50.071818</td>\n",
              "      <td>-5258.304348</td>\n",
              "      <td>-9412.086957</td>\n",
              "      <td>-1460.608696</td>\n",
              "      <td>239054.173913</td>\n",
              "      <td>1.468269</td>\n",
              "      <td>36.196761</td>\n",
              "      <td>18.600</td>\n",
              "      <td>1.0</td>\n",
              "      <td>281753.0</td>\n",
              "      <td>144982.0</td>\n",
              "      <td>0.0</td>\n",
              "      <td>0.0</td>\n",
              "      <td>1092.0</td>\n",
              "      <td>0.0</td>\n",
              "      <td>5617.0</td>\n",
              "      <td>1967.0</td>\n",
              "      <td>288259.0</td>\n",
              "      <td>291462.0</td>\n",
              "      <td>72891.0</td>\n",
              "      <td>0.0</td>\n",
              "      <td>0.0</td>\n",
              "      <td>215534.0</td>\n",
              "      <td>210456.0</td>\n",
              "      <td>81153.0</td>\n",
              "      <td>59561.0</td>\n",
              "      <td>150094.0</td>\n",
              "      <td>49.595488</td>\n",
              "      <td>-4669.0</td>\n",
              "      <td>-1111.0</td>\n",
              "      <td>-1912.0</td>\n",
              "      <td>72891.0</td>\n",
              "      <td>0.369271</td>\n",
              "      <td>38.218469</td>\n",
              "      <td>18.6</td>\n",
              "      <td>1.0</td>\n",
              "      <td>0</td>\n",
              "      <td>0</td>\n",
              "      <td>0</td>\n",
              "      <td>0</td>\n",
              "      <td>0</td>\n",
              "      <td>0</td>\n",
              "      <td>1</td>\n",
              "      <td>0</td>\n",
              "      <td>0</td>\n",
              "    </tr>\n",
              "  </tbody>\n",
              "</table>\n",
              "</div>"
            ],
            "text/plain": [
              "        ein ntee1 ntee state                                name  ...  L  M  N  O  P\n",
              "0  10015091     N  N64    NJ             HANOVER SOCCER CLUB INC  ...  0  0  1  0  0\n",
              "1  10017496     N  N50    ME      AGAMENTICUS YACHT CLUB OF YORK  ...  0  0  1  0  0\n",
              "2  10088397     N  N65    NJ      POP WARNER LITTLE SCHOLARS INC  ...  0  0  1  0  0\n",
              "3  10133442     N  N11    ME  OXFORD COUNTY AGRICULTURAL SOCIETY  ...  0  0  1  0  0\n",
              "4  10153128     N  N31    ME    GREATER RUMFORD COMMUNITY CENTER  ...  0  0  1  0  0\n",
              "\n",
              "[5 rows x 76 columns]"
            ]
          },
          "metadata": {
            "tags": []
          },
          "execution_count": 17
        }
      ]
    },
    {
      "cell_type": "code",
      "metadata": {
        "id": "tMryzeq3Ls2M",
        "colab_type": "code",
        "outputId": "b45d57db-f808-4fcb-d067-e02ae43535d9",
        "colab": {
          "base_uri": "https://localhost:8080/",
          "height": 34
        }
      },
      "source": [
        "df= df.loc[df['ntee1'].isin(['I', 'J', 'K', 'L', 'M', 'N', 'O', 'P'])]\n",
        "print(df.shape)"
      ],
      "execution_count": 0,
      "outputs": [
        {
          "output_type": "stream",
          "text": [
            "(221140, 76)\n"
          ],
          "name": "stdout"
        }
      ]
    },
    {
      "cell_type": "code",
      "metadata": {
        "id": "JwjiFFo3WysU",
        "colab_type": "code",
        "outputId": "7a8c3c8f-9ff9-4e14-9464-988687a6132e",
        "colab": {
          "base_uri": "https://localhost:8080/",
          "height": 327
        }
      },
      "source": [
        "df.columns"
      ],
      "execution_count": 0,
      "outputs": [
        {
          "output_type": "execute_result",
          "data": {
            "text/plain": [
              "Index(['ein', 'ntee1', 'ntee', 'state', 'name', 'address', 'city', 'zip', 'n',\n",
              "       'fre', 'start_year', 'end_year', 'ave_rate', 'totrev_mean',\n",
              "       'tot_pub_sup_mean', 'secur_mean', 'salesexp_mean', 'invinc_mean',\n",
              "       'solicit_mean', 'goods_mean', 'grprof_mean', 'grrec_mean', 'exps_mean',\n",
              "       'fundbal_mean', 'compens_mean', 'fundfees_mean', 'ass_boy_mean',\n",
              "       'ass_eoy_mean', 'liab_boy_mean', 'liab_eoy_mean', 'progrev_mean',\n",
              "       'prg_pre_total_mean', 'net_mean', 'ast_gain_mean', 'lab_gain_mean',\n",
              "       'gap_end_mean', 'ins_pre_total_mean', 'con_pre_total_mean',\n",
              "       'p_rate2_mean', 'pd_mean', 'totrev_median', 'tot_pub_sup_median',\n",
              "       'secur_median', 'salesexp_median', 'invinc_median', 'solicit_median',\n",
              "       'goods_median', 'grprof_median', 'grrec_median', 'exps_median',\n",
              "       'fundbal_median', 'compens_median', 'fundfees_median', 'ass_boy_median',\n",
              "       'ass_eoy_median', 'liab_boy_median', 'liab_eoy_median',\n",
              "       'progrev_median', 'prg_pre_total_median', 'net_median',\n",
              "       'ast_gain_median', 'lab_gain_median', 'gap_end_median',\n",
              "       'ins_pre_total_median', 'con_pre_total_median', 'p_rate2_median',\n",
              "       'pd_median', 'dummy', 'I', 'J', 'K', 'L', 'M', 'N', 'O', 'P'],\n",
              "      dtype='object')"
            ]
          },
          "metadata": {
            "tags": []
          },
          "execution_count": 20
        }
      ]
    },
    {
      "cell_type": "code",
      "metadata": {
        "id": "oO0kL1IbiPcn",
        "colab_type": "code",
        "outputId": "df114749-21ff-46ec-e28d-2b059d425181",
        "colab": {
          "base_uri": "https://localhost:8080/",
          "height": 34
        }
      },
      "source": [
        "df=df.replace([np.inf, -np.inf], np.nan)\n",
        "print(df.shape)"
      ],
      "execution_count": 0,
      "outputs": [
        {
          "output_type": "stream",
          "text": [
            "(221140, 76)\n"
          ],
          "name": "stdout"
        }
      ]
    },
    {
      "cell_type": "code",
      "metadata": {
        "id": "qdf9-r1dX1BI",
        "colab_type": "code",
        "outputId": "4c721395-4cfd-4bc1-d203-8b9e64239ed5",
        "colab": {
          "base_uri": "https://localhost:8080/",
          "height": 1000
        }
      },
      "source": [
        "pd.set_option('display.max_rows', 100)\n",
        "df.isnull().sum()"
      ],
      "execution_count": 0,
      "outputs": [
        {
          "output_type": "execute_result",
          "data": {
            "text/plain": [
              "ein                         0\n",
              "ntee1                       0\n",
              "ntee                        0\n",
              "state                     296\n",
              "name                      302\n",
              "address                  1532\n",
              "city                      436\n",
              "zip                       898\n",
              "n                           0\n",
              "fre                         0\n",
              "start_year                  0\n",
              "end_year                    0\n",
              "ave_rate                15558\n",
              "totrev_mean                 0\n",
              "tot_pub_sup_mean            0\n",
              "secur_mean              29321\n",
              "salesexp_mean            2871\n",
              "invinc_mean                 0\n",
              "solicit_mean             2884\n",
              "goods_mean                  0\n",
              "grprof_mean                 0\n",
              "grrec_mean                  0\n",
              "exps_mean                   0\n",
              "fundbal_mean                0\n",
              "compens_mean             2871\n",
              "fundfees_mean            2871\n",
              "ass_boy_mean            10781\n",
              "ass_eoy_mean                0\n",
              "liab_boy_mean           14506\n",
              "liab_eoy_mean               0\n",
              "progrev_mean                0\n",
              "prg_pre_total_mean       3157\n",
              "net_mean                    0\n",
              "ast_gain_mean           10781\n",
              "lab_gain_mean           14506\n",
              "gap_end_mean                0\n",
              "ins_pre_total_mean       3029\n",
              "con_pre_total_mean       4148\n",
              "p_rate2_mean            16580\n",
              "pd_mean                 16580\n",
              "totrev_median               0\n",
              "tot_pub_sup_median          0\n",
              "secur_median            29321\n",
              "salesexp_median          2871\n",
              "invinc_median               0\n",
              "solicit_median           2884\n",
              "goods_median                0\n",
              "grprof_median               0\n",
              "grrec_median                0\n",
              "exps_median                 0\n",
              "fundbal_median              0\n",
              "compens_median           2871\n",
              "fundfees_median          2871\n",
              "ass_boy_median          10781\n",
              "ass_eoy_median              0\n",
              "liab_boy_median         14506\n",
              "liab_eoy_median             0\n",
              "progrev_median              0\n",
              "prg_pre_total_median     3157\n",
              "net_median                  0\n",
              "ast_gain_median         10781\n",
              "lab_gain_median         14506\n",
              "gap_end_median              0\n",
              "ins_pre_total_median     3029\n",
              "con_pre_total_median     4148\n",
              "p_rate2_median          16580\n",
              "pd_median               16580\n",
              "dummy                       0\n",
              "I                           0\n",
              "J                           0\n",
              "K                           0\n",
              "L                           0\n",
              "M                           0\n",
              "N                           0\n",
              "O                           0\n",
              "P                           0\n",
              "dtype: int64"
            ]
          },
          "metadata": {
            "tags": []
          },
          "execution_count": 22
        }
      ]
    },
    {
      "cell_type": "code",
      "metadata": {
        "id": "azo8bTjHs0Cb",
        "colab_type": "code",
        "outputId": "629fa5af-a824-4d26-da20-ea4a62c363a2",
        "colab": {
          "base_uri": "https://localhost:8080/",
          "height": 54
        }
      },
      "source": [
        "'''X=df.drop(columns=['secur_mean', 'ass_boy_mean','liab_boy_mean','ast_gain_mean','lab_gain_mean',\n",
        "                   'solicit_mean','tot_pub_sup_median', 'secur_median','ass_boy_median', \n",
        "                   'liab_boy_median', 'liab_eoy_median', 'ast_gain_median','lab_gain_median', 'gap_end_median', 'ins_pre_total_median','con_pre_total_median',\n",
        "                   'ntee1', 'ntee', 'state', 'name', 'address', 'city', 'zip',])'''"
      ],
      "execution_count": 0,
      "outputs": [
        {
          "output_type": "execute_result",
          "data": {
            "text/plain": [
              "\"X=df.drop(columns=['secur_mean', 'ass_boy_mean','liab_boy_mean','ast_gain_mean','lab_gain_mean',\\n                   'solicit_mean','tot_pub_sup_median', 'secur_median','ass_boy_median', \\n                   'liab_boy_median', 'liab_eoy_median', 'ast_gain_median','lab_gain_median', 'gap_end_median', 'ins_pre_total_median','con_pre_total_median',\\n                   'ntee1', 'ntee', 'state', 'name', 'address', 'city', 'zip',])\""
            ]
          },
          "metadata": {
            "tags": []
          },
          "execution_count": 23
        }
      ]
    },
    {
      "cell_type": "code",
      "metadata": {
        "id": "MvzbGhUJWogj",
        "colab_type": "code",
        "outputId": "605d6a35-50f6-4981-a942-3cef4103f79b",
        "colab": {
          "base_uri": "https://localhost:8080/",
          "height": 636
        }
      },
      "source": [
        "X=df.drop(columns=['secur_mean', 'n','fre','end_year','ass_boy_mean','liab_boy_mean','ast_gain_mean','lab_gain_mean',\n",
        "                   'solicit_mean','totrev_median', 'tot_pub_sup_median', 'secur_median',\n",
        "                    'salesexp_median', 'invinc_median', 'solicit_median', 'goods_median',\n",
        "                    'grprof_median', 'grrec_median', 'exps_median', 'fundbal_median',\n",
        "                    'compens_median', 'fundfees_median', 'ass_boy_median', 'ass_eoy_median',\n",
        "                    'liab_boy_median', 'liab_eoy_median', 'progrev_median',\n",
        "                     'net_median', 'ast_gain_median',\n",
        "                    'lab_gain_median', 'gap_end_median', \n",
        "                    'ntee1', 'ntee', 'state', 'name', 'address', 'city', 'zip','ass_boy_mean',\n",
        "                   'ass_eoy_mean', 'liab_boy_mean', 'liab_eoy_mean','gap_end_mean'])                  \n",
        "X=X.dropna()\n",
        "print(X.shape)\n",
        "y = X['dummy']\n",
        "X=X.drop(columns=['dummy'])\n",
        "X_train, X_test, y_train, y_test = train_test_split(X, y, test_size = 0.3, random_state = 66)\n",
        "X.isnull().sum()"
      ],
      "execution_count": 0,
      "outputs": [
        {
          "output_type": "stream",
          "text": [
            "(188963, 35)\n"
          ],
          "name": "stdout"
        },
        {
          "output_type": "execute_result",
          "data": {
            "text/plain": [
              "ein                     0\n",
              "start_year              0\n",
              "ave_rate                0\n",
              "totrev_mean             0\n",
              "tot_pub_sup_mean        0\n",
              "salesexp_mean           0\n",
              "invinc_mean             0\n",
              "goods_mean              0\n",
              "grprof_mean             0\n",
              "grrec_mean              0\n",
              "exps_mean               0\n",
              "fundbal_mean            0\n",
              "compens_mean            0\n",
              "fundfees_mean           0\n",
              "progrev_mean            0\n",
              "prg_pre_total_mean      0\n",
              "net_mean                0\n",
              "ins_pre_total_mean      0\n",
              "con_pre_total_mean      0\n",
              "p_rate2_mean            0\n",
              "pd_mean                 0\n",
              "prg_pre_total_median    0\n",
              "ins_pre_total_median    0\n",
              "con_pre_total_median    0\n",
              "p_rate2_median          0\n",
              "pd_median               0\n",
              "I                       0\n",
              "J                       0\n",
              "K                       0\n",
              "L                       0\n",
              "M                       0\n",
              "N                       0\n",
              "O                       0\n",
              "P                       0\n",
              "dtype: int64"
            ]
          },
          "metadata": {
            "tags": []
          },
          "execution_count": 28
        }
      ]
    },
    {
      "cell_type": "code",
      "metadata": {
        "id": "voAaCUUybyCb",
        "colab_type": "code",
        "outputId": "99701e83-8ca0-4839-cf1d-9e5c9e883cd5",
        "colab": {
          "base_uri": "https://localhost:8080/",
          "height": 155
        }
      },
      "source": [
        "X.columns"
      ],
      "execution_count": 0,
      "outputs": [
        {
          "output_type": "execute_result",
          "data": {
            "text/plain": [
              "Index(['ein', 'start_year', 'ave_rate', 'totrev_mean', 'tot_pub_sup_mean',\n",
              "       'salesexp_mean', 'invinc_mean', 'goods_mean', 'grprof_mean',\n",
              "       'grrec_mean', 'exps_mean', 'fundbal_mean', 'compens_mean',\n",
              "       'fundfees_mean', 'progrev_mean', 'prg_pre_total_mean', 'net_mean',\n",
              "       'ins_pre_total_mean', 'con_pre_total_mean', 'p_rate2_mean', 'pd_mean',\n",
              "       'prg_pre_total_median', 'ins_pre_total_median', 'con_pre_total_median',\n",
              "       'p_rate2_median', 'pd_median', 'I', 'J', 'K', 'L', 'M', 'N', 'O', 'P'],\n",
              "      dtype='object')"
            ]
          },
          "metadata": {
            "tags": []
          },
          "execution_count": 29
        }
      ]
    },
    {
      "cell_type": "code",
      "metadata": {
        "id": "skgvQq7UfQmy",
        "colab_type": "code",
        "outputId": "596577ec-4f40-436a-d7e6-84d0b3142b7e",
        "colab": {
          "base_uri": "https://localhost:8080/",
          "height": 378
        }
      },
      "source": [
        "import keras\n",
        "from keras.models import Sequential\n",
        "from keras.layers import Dense\n",
        "classifier_nn = Sequential()\n",
        "\n",
        "# Adding the input layer and the first hidden layer\n",
        "classifier_nn.add(Dense(units = 10, kernel_initializer = 'uniform', activation = 'relu', input_dim = 34))\n",
        "\n",
        "# Adding the second hidden layer\n",
        "classifier_nn.add(Dense(units = 10, kernel_initializer = 'uniform', activation = 'relu'))\n",
        "\n",
        "# Adding the output layer\n",
        "classifier_nn.add(Dense(units = 1, kernel_initializer = 'uniform', activation = 'sigmoid'))\n",
        "\n",
        "# Compiling the ANN\n",
        "classifier_nn.compile(optimizer = 'adam', loss = 'binary_crossentropy', metrics = ['accuracy'])\n",
        "\n",
        "# Fitting the ANN to the Training set\n",
        "classifier_nn.fit(X_train, y_train, batch_size = 888, epochs = 10)\n",
        "print('Neural Network Creation Successful')"
      ],
      "execution_count": 0,
      "outputs": [
        {
          "output_type": "stream",
          "text": [
            "Epoch 1/10\n",
            "132274/132274 [==============================] - 1s 5us/step - loss: 4.6610 - acc: 0.7108\n",
            "Epoch 2/10\n",
            "132274/132274 [==============================] - 0s 3us/step - loss: 4.6610 - acc: 0.7108\n",
            "Epoch 3/10\n",
            "132274/132274 [==============================] - 0s 3us/step - loss: 4.6610 - acc: 0.7108\n",
            "Epoch 4/10\n",
            "132274/132274 [==============================] - 0s 3us/step - loss: 4.6610 - acc: 0.7108\n",
            "Epoch 5/10\n",
            "132274/132274 [==============================] - 0s 3us/step - loss: 4.6610 - acc: 0.7108\n",
            "Epoch 6/10\n",
            "132274/132274 [==============================] - 0s 3us/step - loss: 4.6610 - acc: 0.7108\n",
            "Epoch 7/10\n",
            "132274/132274 [==============================] - 0s 3us/step - loss: 4.6610 - acc: 0.7108\n",
            "Epoch 8/10\n",
            "132274/132274 [==============================] - 0s 3us/step - loss: 4.6610 - acc: 0.7108\n",
            "Epoch 9/10\n",
            "132274/132274 [==============================] - 0s 3us/step - loss: 4.6610 - acc: 0.7108\n",
            "Epoch 10/10\n",
            "132274/132274 [==============================] - 0s 3us/step - loss: 4.6610 - acc: 0.7108\n",
            "Neural Network Creation Successful\n"
          ],
          "name": "stdout"
        }
      ]
    },
    {
      "cell_type": "code",
      "metadata": {
        "id": "NmJ1yPdEI1N_",
        "colab_type": "code",
        "outputId": "64d7524b-4f9c-4465-d0c5-8bf232ab7fd2",
        "colab": {
          "base_uri": "https://localhost:8080/",
          "height": 69
        }
      },
      "source": [
        "y_pred_nn=classifier_nn.predict(X_test)\n",
        "y_pred_nn[y_pred_nn <= 0.5] = 0.\n",
        "y_pred_nn[y_pred_nn > 0.5] = 1.\n",
        "print(accuracy_score(y_test, y_pred_nn))\n",
        "print(confusion_matrix(y_test, y_pred_nn))"
      ],
      "execution_count": 0,
      "outputs": [
        {
          "output_type": "stream",
          "text": [
            "0.28651061052408755\n",
            "[[    0 40447]\n",
            " [    0 16242]]\n"
          ],
          "name": "stdout"
        }
      ]
    },
    {
      "cell_type": "code",
      "metadata": {
        "id": "1aBgga2Cjycq",
        "colab_type": "code",
        "outputId": "f84a233f-eb41-477c-fc09-2180e32f939f",
        "colab": {
          "base_uri": "https://localhost:8080/",
          "height": 69
        }
      },
      "source": [
        "# Fitting Naive Bayes to the Training set\n",
        "from sklearn.naive_bayes import GaussianNB\n",
        "classifier = GaussianNB()\n",
        "classifier.fit(X_train, y_train)\n",
        "y_pred = classifier.predict(X_test)\n",
        "print(confusion_matrix(y_test, y_pred))\n",
        "print(accuracy_score(y_test, y_pred))\n",
        "#print(accuracy_score(y_test, y_pred_log))"
      ],
      "execution_count": 0,
      "outputs": [
        {
          "output_type": "stream",
          "text": [
            "[[ 2210 38237]\n",
            " [  272 15970]]\n",
            "0.32069713701070757\n"
          ],
          "name": "stdout"
        }
      ]
    },
    {
      "cell_type": "code",
      "metadata": {
        "id": "DeCH7AYCkMHb",
        "colab_type": "code",
        "outputId": "e0d33b08-f4ed-41d6-8741-261fff6d6359",
        "colab": {
          "base_uri": "https://localhost:8080/",
          "height": 206
        }
      },
      "source": [
        "from sklearn.linear_model import LogisticRegression\n",
        "log_reg1 = LogisticRegression(C=10).fit(X_train, y_train)\n",
        "\n",
        "# Predicting the Test set results\n",
        "y_pred_log = log_reg1.predict(X_test)\n",
        "print(confusion_matrix(y_test, y_pred_log))\n",
        "print(accuracy_score(y_test, y_pred_log))\n",
        "#print(accuracy_score(y_test, y_pred_log))"
      ],
      "execution_count": 0,
      "outputs": [
        {
          "output_type": "stream",
          "text": [
            "[[40336   111]\n",
            " [16218    24]]\n",
            "0.7119547002063893\n"
          ],
          "name": "stdout"
        },
        {
          "output_type": "stream",
          "text": [
            "/usr/local/lib/python3.6/dist-packages/sklearn/linear_model/_logistic.py:940: ConvergenceWarning: lbfgs failed to converge (status=1):\n",
            "STOP: TOTAL NO. of ITERATIONS REACHED LIMIT.\n",
            "\n",
            "Increase the number of iterations (max_iter) or scale the data as shown in:\n",
            "    https://scikit-learn.org/stable/modules/preprocessing.html\n",
            "Please also refer to the documentation for alternative solver options:\n",
            "    https://scikit-learn.org/stable/modules/linear_model.html#logistic-regression\n",
            "  extra_warning_msg=_LOGISTIC_SOLVER_CONVERGENCE_MSG)\n"
          ],
          "name": "stderr"
        }
      ]
    },
    {
      "cell_type": "code",
      "metadata": {
        "id": "2jLOrXSgqYfs",
        "colab_type": "code",
        "outputId": "03eb5d3e-afe0-4994-ba91-4e8f91a01b3d",
        "colab": {
          "base_uri": "https://localhost:8080/",
          "height": 667
        }
      },
      "source": [
        "corr=X_train.corr()\n",
        "plt.figure(figsize=(20,10))\n",
        "ax = sns.heatmap(corr,\n",
        "                 vmin=-1, vmax=1, center=0,\n",
        "                 cmap=sns.diverging_palette(20, 220, n=400),\n",
        "                 square=True\n",
        ")\n",
        "ax.set_xticklabels(\n",
        "    ax.get_xticklabels(),\n",
        "    rotation=45,\n",
        "    horizontalalignment='right'\n",
        ");"
      ],
      "execution_count": 0,
      "outputs": [
        {
          "output_type": "display_data",
          "data": {
            "image/png": "[encoded data removed]",
            "text/plain": [
              "<Figure size 1440x720 with 2 Axes>"
            ]
          },
          "metadata": {
            "tags": []
          }
        }
      ]
    },
    {
      "cell_type": "code",
      "metadata": {
        "id": "_DwtOzA5t2Kf",
        "colab_type": "code",
        "outputId": "3739dfd4-5302-4ff8-f2e1-d897619ad312",
        "colab": {
          "base_uri": "https://localhost:8080/",
          "height": 730
        }
      },
      "source": [
        "model_c = ols(\"dummy ~ ave_rate+start_year+ntee1+totrev_mean+prg_pre_total_mean+ins_pre_total_mean+con_pre_total_mean\", data=df).fit()\n",
        "# summarize our model\n",
        "model_c.summary()"
      ],
      "execution_count": 0,
      "outputs": [
        {
          "output_type": "execute_result",
          "data": {
            "text/html": [
              "<table class=\"simpletable\">\n",
              "<caption>OLS Regression Results</caption>\n",
              "<tr>\n",
              "  <th>Dep. Variable:</th>          <td>dummy</td>      <th>  R-squared:         </th>  <td>   0.048</td>  \n",
              "</tr>\n",
              "<tr>\n",
              "  <th>Model:</th>                   <td>OLS</td>       <th>  Adj. R-squared:    </th>  <td>   0.048</td>  \n",
              "</tr>\n",
              "<tr>\n",
              "  <th>Method:</th>             <td>Least Squares</td>  <th>  F-statistic:       </th>  <td>   794.3</td>  \n",
              "</tr>\n",
              "<tr>\n",
              "  <th>Date:</th>             <td>Thu, 09 Jan 2020</td> <th>  Prob (F-statistic):</th>   <td>  0.00</td>   \n",
              "</tr>\n",
              "<tr>\n",
              "  <th>Time:</th>                 <td>08:02:55</td>     <th>  Log-Likelihood:    </th> <td>-1.2816e+05</td>\n",
              "</tr>\n",
              "<tr>\n",
              "  <th>No. Observations:</th>      <td>204460</td>      <th>  AIC:               </th>  <td>2.563e+05</td> \n",
              "</tr>\n",
              "<tr>\n",
              "  <th>Df Residuals:</th>          <td>204446</td>      <th>  BIC:               </th>  <td>2.565e+05</td> \n",
              "</tr>\n",
              "<tr>\n",
              "  <th>Df Model:</th>              <td>    13</td>      <th>                     </th>      <td> </td>     \n",
              "</tr>\n",
              "<tr>\n",
              "  <th>Covariance Type:</th>      <td>nonrobust</td>    <th>                     </th>      <td> </td>     \n",
              "</tr>\n",
              "</table>\n",
              "<table class=\"simpletable\">\n",
              "<tr>\n",
              "           <td></td>             <th>coef</th>     <th>std err</th>      <th>t</th>      <th>P>|t|</th>  <th>[0.025</th>    <th>0.975]</th>  \n",
              "</tr>\n",
              "<tr>\n",
              "  <th>Intercept</th>          <td>   17.6803</td> <td>    0.241</td> <td>   73.476</td> <td> 0.000</td> <td>   17.209</td> <td>   18.152</td>\n",
              "</tr>\n",
              "<tr>\n",
              "  <th>ntee1[T.J]</th>         <td>    0.0277</td> <td>    0.007</td> <td>    4.053</td> <td> 0.000</td> <td>    0.014</td> <td>    0.041</td>\n",
              "</tr>\n",
              "<tr>\n",
              "  <th>ntee1[T.K]</th>         <td>   -0.1023</td> <td>    0.007</td> <td>  -14.344</td> <td> 0.000</td> <td>   -0.116</td> <td>   -0.088</td>\n",
              "</tr>\n",
              "<tr>\n",
              "  <th>ntee1[T.L]</th>         <td>   -0.0753</td> <td>    0.005</td> <td>  -14.385</td> <td> 0.000</td> <td>   -0.086</td> <td>   -0.065</td>\n",
              "</tr>\n",
              "<tr>\n",
              "  <th>ntee1[T.M]</th>         <td>   -0.0967</td> <td>    0.006</td> <td>  -15.720</td> <td> 0.000</td> <td>   -0.109</td> <td>   -0.085</td>\n",
              "</tr>\n",
              "<tr>\n",
              "  <th>ntee1[T.N]</th>         <td>   -0.0189</td> <td>    0.005</td> <td>   -3.867</td> <td> 0.000</td> <td>   -0.028</td> <td>   -0.009</td>\n",
              "</tr>\n",
              "<tr>\n",
              "  <th>ntee1[T.O]</th>         <td>    0.0116</td> <td>    0.006</td> <td>    2.051</td> <td> 0.040</td> <td>    0.001</td> <td>    0.023</td>\n",
              "</tr>\n",
              "<tr>\n",
              "  <th>ntee1[T.P]</th>         <td>    0.0031</td> <td>    0.005</td> <td>    0.677</td> <td> 0.498</td> <td>   -0.006</td> <td>    0.012</td>\n",
              "</tr>\n",
              "<tr>\n",
              "  <th>ave_rate</th>           <td> 1.273e-08</td> <td> 1.11e-08</td> <td>    1.146</td> <td> 0.252</td> <td>-9.03e-09</td> <td> 3.45e-08</td>\n",
              "</tr>\n",
              "<tr>\n",
              "  <th>start_year</th>         <td>   -0.0086</td> <td>    0.000</td> <td>  -71.320</td> <td> 0.000</td> <td>   -0.009</td> <td>   -0.008</td>\n",
              "</tr>\n",
              "<tr>\n",
              "  <th>totrev_mean</th>        <td>-2.601e-09</td> <td> 1.26e-10</td> <td>  -20.727</td> <td> 0.000</td> <td>-2.85e-09</td> <td>-2.36e-09</td>\n",
              "</tr>\n",
              "<tr>\n",
              "  <th>prg_pre_total_mean</th> <td>   -0.0024</td> <td> 4.65e-05</td> <td>  -52.043</td> <td> 0.000</td> <td>   -0.003</td> <td>   -0.002</td>\n",
              "</tr>\n",
              "<tr>\n",
              "  <th>ins_pre_total_mean</th> <td>   -0.0027</td> <td>    0.000</td> <td>  -19.905</td> <td> 0.000</td> <td>   -0.003</td> <td>   -0.002</td>\n",
              "</tr>\n",
              "<tr>\n",
              "  <th>con_pre_total_mean</th> <td>   -0.0014</td> <td> 4.44e-05</td> <td>  -32.433</td> <td> 0.000</td> <td>   -0.002</td> <td>   -0.001</td>\n",
              "</tr>\n",
              "</table>\n",
              "<table class=\"simpletable\">\n",
              "<tr>\n",
              "  <th>Omnibus:</th>       <td>79037.055</td> <th>  Durbin-Watson:     </th> <td>   1.899</td> \n",
              "</tr>\n",
              "<tr>\n",
              "  <th>Prob(Omnibus):</th>  <td> 0.000</td>   <th>  Jarque-Bera (JB):  </th> <td>28663.570</td>\n",
              "</tr>\n",
              "<tr>\n",
              "  <th>Skew:</th>           <td> 0.751</td>   <th>  Prob(JB):          </th> <td>    0.00</td> \n",
              "</tr>\n",
              "<tr>\n",
              "  <th>Kurtosis:</th>       <td> 1.946</td>   <th>  Cond. No.          </th> <td>1.94e+09</td> \n",
              "</tr>\n",
              "</table><br/><br/>Warnings:<br/>[1] Standard Errors assume that the covariance matrix of the errors is correctly specified.<br/>[2] The condition number is large, 1.94e+09. This might indicate that there are<br/>strong multicollinearity or other numerical problems."
            ],
            "text/plain": [
              "<class 'statsmodels.iolib.summary.Summary'>\n",
              "\"\"\"\n",
              "                            OLS Regression Results                            \n",
              "==============================================================================\n",
              "Dep. Variable:                  dummy   R-squared:                       0.048\n",
              "Model:                            OLS   Adj. R-squared:                  0.048\n",
              "Method:                 Least Squares   F-statistic:                     794.3\n",
              "Date:                Thu, 09 Jan 2020   Prob (F-statistic):               0.00\n",
              "Time:                        08:02:55   Log-Likelihood:            -1.2816e+05\n",
              "No. Observations:              204460   AIC:                         2.563e+05\n",
              "Df Residuals:                  204446   BIC:                         2.565e+05\n",
              "Df Model:                          13                                         \n",
              "Covariance Type:            nonrobust                                         \n",
              "======================================================================================\n",
              "                         coef    std err          t      P>|t|      [0.025      0.975]\n",
              "--------------------------------------------------------------------------------------\n",
              "Intercept             17.6803      0.241     73.476      0.000      17.209      18.152\n",
              "ntee1[T.J]             0.0277      0.007      4.053      0.000       0.014       0.041\n",
              "ntee1[T.K]            -0.1023      0.007    -14.344      0.000      -0.116      -0.088\n",
              "ntee1[T.L]            -0.0753      0.005    -14.385      0.000      -0.086      -0.065\n",
              "ntee1[T.M]            -0.0967      0.006    -15.720      0.000      -0.109      -0.085\n",
              "ntee1[T.N]            -0.0189      0.005     -3.867      0.000      -0.028      -0.009\n",
              "ntee1[T.O]             0.0116      0.006      2.051      0.040       0.001       0.023\n",
              "ntee1[T.P]             0.0031      0.005      0.677      0.498      -0.006       0.012\n",
              "ave_rate            1.273e-08   1.11e-08      1.146      0.252   -9.03e-09    3.45e-08\n",
              "start_year            -0.0086      0.000    -71.320      0.000      -0.009      -0.008\n",
              "totrev_mean        -2.601e-09   1.26e-10    -20.727      0.000   -2.85e-09   -2.36e-09\n",
              "prg_pre_total_mean    -0.0024   4.65e-05    -52.043      0.000      -0.003      -0.002\n",
              "ins_pre_total_mean    -0.0027      0.000    -19.905      0.000      -0.003      -0.002\n",
              "con_pre_total_mean    -0.0014   4.44e-05    -32.433      0.000      -0.002      -0.001\n",
              "==============================================================================\n",
              "Omnibus:                    79037.055   Durbin-Watson:                   1.899\n",
              "Prob(Omnibus):                  0.000   Jarque-Bera (JB):            28663.570\n",
              "Skew:                           0.751   Prob(JB):                         0.00\n",
              "Kurtosis:                       1.946   Cond. No.                     1.94e+09\n",
              "==============================================================================\n",
              "\n",
              "Warnings:\n",
              "[1] Standard Errors assume that the covariance matrix of the errors is correctly specified.\n",
              "[2] The condition number is large, 1.94e+09. This might indicate that there are\n",
              "strong multicollinearity or other numerical problems.\n",
              "\"\"\""
            ]
          },
          "metadata": {
            "tags": []
          },
          "execution_count": 21
        }
      ]
    },
    {
      "cell_type": "code",
      "metadata": {
        "id": "I-nQd2wP4835",
        "colab_type": "code",
        "outputId": "64eaf276-891e-43ea-cbc2-466e7c76f0c8",
        "colab": {
          "base_uri": "https://localhost:8080/",
          "height": 69
        }
      },
      "source": [
        "#random forest\n",
        "classifier = RandomForestClassifier(n_estimators = 50, criterion = 'entropy', random_state = 12)\n",
        "classifier.fit(X_train, y_train)\n",
        "\n",
        "# Predicting the Test set results\n",
        "y_pred_rf = classifier.predict(X_test)\n",
        "\n",
        "# Making the Confusion Matrix\n",
        "\n",
        "print(confusion_matrix(y_test, y_pred_rf))\n",
        "print(accuracy_score(y_test, y_pred_rf))"
      ],
      "execution_count": 0,
      "outputs": [
        {
          "output_type": "stream",
          "text": [
            "[[37979  2468]\n",
            " [ 6016 10226]]\n",
            "0.8503413360616698\n"
          ],
          "name": "stdout"
        }
      ]
    },
    {
      "cell_type": "code",
      "metadata": {
        "id": "e9q9DkCM5Z2b",
        "colab_type": "code",
        "outputId": "cd59a0c1-8754-44bd-ad58-f55e4e4a7b6d",
        "colab": {
          "base_uri": "https://localhost:8080/",
          "height": 69
        }
      },
      "source": [
        "from sklearn import tree\n",
        "clf = tree.DecisionTreeClassifier()\n",
        "clf = clf.fit(X_train, y_train)\n",
        "# Predicting the Test set results\n",
        "y_pred_tr = clf.predict(X_test)\n",
        "\n",
        "# Making the Confusion Matrix\n",
        "\n",
        "print(confusion_matrix(y_test, y_pred_tr))\n",
        "print(accuracy_score(y_test, y_pred_tr))"
      ],
      "execution_count": 0,
      "outputs": [
        {
          "output_type": "stream",
          "text": [
            "[[34300  6147]\n",
            " [ 5740 10502]]\n",
            "0.790312053484803\n"
          ],
          "name": "stdout"
        }
      ]
    },
    {
      "cell_type": "code",
      "metadata": {
        "id": "n5Bmy6d5gn97",
        "colab_type": "code",
        "outputId": "61cf67e0-7047-41db-9117-9c71364d9ba3",
        "colab": {
          "base_uri": "https://localhost:8080/",
          "height": 155
        }
      },
      "source": [
        "X_train.columns"
      ],
      "execution_count": 0,
      "outputs": [
        {
          "output_type": "execute_result",
          "data": {
            "text/plain": [
              "Index(['ein', 'start_year', 'ave_rate', 'totrev_mean', 'tot_pub_sup_mean',\n",
              "       'salesexp_mean', 'invinc_mean', 'goods_mean', 'grprof_mean',\n",
              "       'grrec_mean', 'exps_mean', 'fundbal_mean', 'compens_mean',\n",
              "       'fundfees_mean', 'progrev_mean', 'prg_pre_total_mean', 'net_mean',\n",
              "       'ins_pre_total_mean', 'con_pre_total_mean', 'p_rate2_mean', 'pd_mean',\n",
              "       'prg_pre_total_median', 'ins_pre_total_median', 'con_pre_total_median',\n",
              "       'p_rate2_median', 'pd_median', 'I', 'J', 'K', 'L', 'M', 'N', 'O', 'P'],\n",
              "      dtype='object')"
            ]
          },
          "metadata": {
            "tags": []
          },
          "execution_count": 39
        }
      ]
    },
    {
      "cell_type": "code",
      "metadata": {
        "id": "NpC_9jYieqIm",
        "colab_type": "code",
        "outputId": "58331154-e0b0-456d-bebd-f800d69d3b3f",
        "colab": {
          "base_uri": "https://localhost:8080/",
          "height": 648
        }
      },
      "source": [
        "from sklearn.externals.six import StringIO  \n",
        "from IPython.display import Image  \n",
        "from sklearn.tree import export_graphviz\n",
        "import pydotplus\n",
        "clf = tree.DecisionTreeClassifier(max_depth = 3)\n",
        "clf = clf.fit(X_train, y_train)\n",
        "dotfile = StringIO() \n",
        "tree.export_graphviz(clf, out_file=dotfile, \n",
        "                     feature_names=X_train.columns,\n",
        "                     class_names=['Open', 'Close'], \n",
        "                     filled=True, rounded=True,  \n",
        "                     special_characters=True)\n",
        "graph = pydotplus.graph_from_dot_data(dotfile.getvalue())\n",
        "Image(graph.create_png())"
      ],
      "execution_count": 0,
      "outputs": [
        {
          "output_type": "stream",
          "text": [
            "/usr/local/lib/python3.6/dist-packages/sklearn/externals/six.py:31: FutureWarning: The module is deprecated in version 0.21 and will be removed in version 0.23 since we've dropped support for Python 2.7. Please rely on the official version of six (https://pypi.org/project/six/).\n",
            "  \"(https://pypi.org/project/six/).\", FutureWarning)\n"
          ],
          "name": "stderr"
        },
        {
          "output_type": "execute_result",
          "data": {
            "image/png": "[encoded data removed]",
            "text/plain": [
              "<IPython.core.display.Image object>"
            ]
          },
          "metadata": {
            "tags": []
          },
          "execution_count": 40
        }
      ]
    },
    {
      "cell_type": "code",
      "metadata": {
        "id": "xnsh8AXxjMXh",
        "colab_type": "code",
        "outputId": "b137413c-b273-4664-ffbd-29f5fa733d1a",
        "colab": {
          "base_uri": "https://localhost:8080/",
          "height": 85
        }
      },
      "source": [
        "df['log_pr']=np.log10(df['progrev_mean'])\n",
        "df=df.replace([np.inf, -np.inf], np.nan)\n",
        "df_s=df.dropna()"
      ],
      "execution_count": 0,
      "outputs": [
        {
          "output_type": "stream",
          "text": [
            "/usr/local/lib/python3.6/dist-packages/pandas/core/series.py:856: RuntimeWarning: divide by zero encountered in log10\n",
            "  result = getattr(ufunc, method)(*inputs, **kwargs)\n",
            "/usr/local/lib/python3.6/dist-packages/pandas/core/series.py:856: RuntimeWarning: invalid value encountered in log10\n",
            "  result = getattr(ufunc, method)(*inputs, **kwargs)\n"
          ],
          "name": "stderr"
        }
      ]
    },
    {
      "cell_type": "code",
      "metadata": {
        "id": "BSlul3Bnk5nB",
        "colab_type": "code",
        "outputId": "b27ae726-306b-4576-9313-18541ae94fc8",
        "colab": {
          "base_uri": "https://localhost:8080/",
          "height": 282
        }
      },
      "source": [
        "df_s['log_pr'].hist()"
      ],
      "execution_count": 0,
      "outputs": [
        {
          "output_type": "execute_result",
          "data": {
            "text/plain": [
              "<matplotlib.axes._subplots.AxesSubplot at 0x7f1db750b8d0>"
            ]
          },
          "metadata": {
            "tags": []
          },
          "execution_count": 27
        },
        {
          "output_type": "display_data",
          "data": {
            "image/png": "[encoded data removed]",
            "text/plain": [
              "<Figure size 432x288 with 1 Axes>"
            ]
          },
          "metadata": {
            "tags": []
          }
        }
      ]
    },
    {
      "cell_type": "code",
      "metadata": {
        "id": "Rj8HJ3XEmm1_",
        "colab_type": "code",
        "outputId": "167e90d4-8868-4642-fb0f-61f27c5b5443",
        "colab": {
          "base_uri": "https://localhost:8080/",
          "height": 453
        }
      },
      "source": [
        "df['years']=df['end_year']-df['start_year']\n",
        "df['years'].hist(by=df['ntee1'])"
      ],
      "execution_count": 0,
      "outputs": [
        {
          "output_type": "execute_result",
          "data": {
            "text/plain": [
              "array([[<matplotlib.axes._subplots.AxesSubplot object at 0x7f1db7480ba8>,\n",
              "        <matplotlib.axes._subplots.AxesSubplot object at 0x7f1db6ffcc50>,\n",
              "        <matplotlib.axes._subplots.AxesSubplot object at 0x7f1db74d9da0>],\n",
              "       [<matplotlib.axes._subplots.AxesSubplot object at 0x7f1e0ca6def0>,\n",
              "        <matplotlib.axes._subplots.AxesSubplot object at 0x7f1e0ca30080>,\n",
              "        <matplotlib.axes._subplots.AxesSubplot object at 0x7f1e0c9e21d0>],\n",
              "       [<matplotlib.axes._subplots.AxesSubplot object at 0x7f1e0c997320>,\n",
              "        <matplotlib.axes._subplots.AxesSubplot object at 0x7f1e0c94a4a8>,\n",
              "        <matplotlib.axes._subplots.AxesSubplot object at 0x7f1e0c94a4e0>]],\n",
              "      dtype=object)"
            ]
          },
          "metadata": {
            "tags": []
          },
          "execution_count": 28
        },
        {
          "output_type": "display_data",
          "data": {
            "image/png": "[encoded data removed]",
            "text/plain": [
              "<Figure size 432x288 with 9 Axes>"
            ]
          },
          "metadata": {
            "tags": []
          }
        }
      ]
    },
    {
      "cell_type": "code",
      "metadata": {
        "id": "pFa91WpWVslP",
        "colab_type": "code",
        "outputId": "3b677605-022a-4f70-bed5-4431a1303c1a",
        "colab": {
          "base_uri": "https://localhost:8080/",
          "height": 1000
        }
      },
      "source": [
        "df.dtypes"
      ],
      "execution_count": 0,
      "outputs": [
        {
          "output_type": "execute_result",
          "data": {
            "text/plain": [
              "ein                       int64\n",
              "ntee1                    object\n",
              "ntee                     object\n",
              "state                    object\n",
              "name                     object\n",
              "address                  object\n",
              "city                     object\n",
              "zip                      object\n",
              "n                         int64\n",
              "fre                       int64\n",
              "start_year                int64\n",
              "end_year                  int64\n",
              "ave_rate                float64\n",
              "totrev_mean             float64\n",
              "tot_pub_sup_mean        float64\n",
              "secur_mean              float64\n",
              "salesexp_mean           float64\n",
              "invinc_mean             float64\n",
              "solicit_mean            float64\n",
              "goods_mean              float64\n",
              "grprof_mean             float64\n",
              "grrec_mean              float64\n",
              "exps_mean               float64\n",
              "fundbal_mean            float64\n",
              "compens_mean            float64\n",
              "fundfees_mean           float64\n",
              "ass_boy_mean            float64\n",
              "ass_eoy_mean            float64\n",
              "liab_boy_mean           float64\n",
              "liab_eoy_mean           float64\n",
              "progrev_mean            float64\n",
              "prg_pre_total_mean      float64\n",
              "net_mean                float64\n",
              "ast_gain_mean           float64\n",
              "lab_gain_mean           float64\n",
              "gap_end_mean            float64\n",
              "ins_pre_total_mean      float64\n",
              "con_pre_total_mean      float64\n",
              "p_rate2_mean            float64\n",
              "pd_mean                 float64\n",
              "totrev_median           float64\n",
              "tot_pub_sup_median      float64\n",
              "secur_median            float64\n",
              "salesexp_median         float64\n",
              "invinc_median           float64\n",
              "solicit_median          float64\n",
              "goods_median            float64\n",
              "grprof_median           float64\n",
              "grrec_median            float64\n",
              "exps_median             float64\n",
              "fundbal_median          float64\n",
              "compens_median          float64\n",
              "fundfees_median         float64\n",
              "ass_boy_median          float64\n",
              "ass_eoy_median          float64\n",
              "liab_boy_median         float64\n",
              "liab_eoy_median         float64\n",
              "progrev_median          float64\n",
              "prg_pre_total_median    float64\n",
              "net_median              float64\n",
              "ast_gain_median         float64\n",
              "lab_gain_median         float64\n",
              "gap_end_median          float64\n",
              "ins_pre_total_median    float64\n",
              "con_pre_total_median    float64\n",
              "p_rate2_median          float64\n",
              "pd_median               float64\n",
              "dummy                     int64\n",
              "I                         int64\n",
              "J                         int64\n",
              "K                         int64\n",
              "L                         int64\n",
              "M                         int64\n",
              "N                         int64\n",
              "O                         int64\n",
              "P                         int64\n",
              "dtype: object"
            ]
          },
          "metadata": {
            "tags": []
          },
          "execution_count": 41
        }
      ]
    },
    {
      "cell_type": "code",
      "metadata": {
        "id": "AnOwtGNDWVmA",
        "colab_type": "code",
        "outputId": "4f839d2b-90f9-4310-8598-b63c5d09aafb",
        "colab": {
          "base_uri": "https://localhost:8080/",
          "height": 295
        }
      },
      "source": [
        "# YOUR CODE HERE\n",
        "from sklearn.cluster import KMeans\n",
        "from sklearn.metrics import silhouette_score\n",
        "df_transformed=X_train[['prg_pre_total_median', 'ins_pre_total_median', 'con_pre_total_median','p_rate2_median','start_year','prg_pre_total_mean', 'ins_pre_total_mean', 'con_pre_total_mean','p_rate2_mean']]\n",
        "sum_of_sq_dist = []\n",
        "K = range(1,15)\n",
        "for n in K:\n",
        "    kmeans = KMeans(n_clusters=n)\n",
        "    kmeans = kmeans.fit(df_transformed)\n",
        "    sum_of_sq_dist .append(kmeans.inertia_)\n",
        "plt.plot(K, sum_of_sq_dist, 'bx-')\n",
        "plt.xlabel('k')\n",
        "plt.ylabel('Sum_of_squared_distances')\n",
        "plt.title('Elbow Method For Optimal k')\n",
        "plt.show()"
      ],
      "execution_count": 0,
      "outputs": [
        {
          "output_type": "display_data",
          "data": {
            "image/png": "[encoded data removed]",
            "text/plain": [
              "<Figure size 432x288 with 1 Axes>"
            ]
          },
          "metadata": {
            "tags": []
          }
        }
      ]
    },
    {
      "cell_type": "code",
      "metadata": {
        "id": "ZbW4d_7yXu7e",
        "colab_type": "code",
        "outputId": "2abcca83-f6fa-48f8-a048-ff1700d215a3",
        "colab": {
          "base_uri": "https://localhost:8080/",
          "height": 275
        }
      },
      "source": [
        "kmeans = KMeans(n_clusters=3, random_state=42)\n",
        "kmeans.fit(df_transformed)\n",
        "df_transformed['group']=kmeans.labels_\n",
        "clusters=df_transformed.groupby('group').median()\n",
        "clusters"
      ],
      "execution_count": 0,
      "outputs": [
        {
          "output_type": "stream",
          "text": [
            "/usr/local/lib/python3.6/dist-packages/ipykernel_launcher.py:3: SettingWithCopyWarning: \n",
            "A value is trying to be set on a copy of a slice from a DataFrame.\n",
            "Try using .loc[row_indexer,col_indexer] = value instead\n",
            "\n",
            "See the caveats in the documentation: http://pandas.pydata.org/pandas-docs/stable/user_guide/indexing.html#returning-a-view-versus-a-copy\n",
            "  This is separate from the ipykernel package so we can avoid doing imports until\n"
          ],
          "name": "stderr"
        },
        {
          "output_type": "execute_result",
          "data": {
            "text/html": [
              "<div>\n",
              "<style scoped>\n",
              "    .dataframe tbody tr th:only-of-type {\n",
              "        vertical-align: middle;\n",
              "    }\n",
              "\n",
              "    .dataframe tbody tr th {\n",
              "        vertical-align: top;\n",
              "    }\n",
              "\n",
              "    .dataframe thead th {\n",
              "        text-align: right;\n",
              "    }\n",
              "</style>\n",
              "<table border=\"1\" class=\"dataframe\">\n",
              "  <thead>\n",
              "    <tr style=\"text-align: right;\">\n",
              "      <th></th>\n",
              "      <th>prg_pre_total_median</th>\n",
              "      <th>ins_pre_total_median</th>\n",
              "      <th>con_pre_total_median</th>\n",
              "      <th>p_rate2_median</th>\n",
              "      <th>start_year</th>\n",
              "      <th>prg_pre_total_mean</th>\n",
              "      <th>ins_pre_total_mean</th>\n",
              "      <th>con_pre_total_mean</th>\n",
              "      <th>p_rate2_mean</th>\n",
              "    </tr>\n",
              "    <tr>\n",
              "      <th>group</th>\n",
              "      <th></th>\n",
              "      <th></th>\n",
              "      <th></th>\n",
              "      <th></th>\n",
              "      <th></th>\n",
              "      <th></th>\n",
              "      <th></th>\n",
              "      <th></th>\n",
              "      <th></th>\n",
              "    </tr>\n",
              "  </thead>\n",
              "  <tbody>\n",
              "    <tr>\n",
              "      <th>0</th>\n",
              "      <td>3.151439</td>\n",
              "      <td>0.129561</td>\n",
              "      <td>21.133550</td>\n",
              "      <td>12.2</td>\n",
              "      <td>1998</td>\n",
              "      <td>22.108910</td>\n",
              "      <td>0.351030</td>\n",
              "      <td>28.451160</td>\n",
              "      <td>12.32222</td>\n",
              "    </tr>\n",
              "    <tr>\n",
              "      <th>1</th>\n",
              "      <td>0.000000</td>\n",
              "      <td>0.011867</td>\n",
              "      <td>97.321065</td>\n",
              "      <td>14.2</td>\n",
              "      <td>2002</td>\n",
              "      <td>0.005306</td>\n",
              "      <td>0.072959</td>\n",
              "      <td>92.349065</td>\n",
              "      <td>14.40000</td>\n",
              "    </tr>\n",
              "    <tr>\n",
              "      <th>2</th>\n",
              "      <td>93.494730</td>\n",
              "      <td>0.040507</td>\n",
              "      <td>0.798969</td>\n",
              "      <td>12.2</td>\n",
              "      <td>1999</td>\n",
              "      <td>82.562120</td>\n",
              "      <td>0.127831</td>\n",
              "      <td>6.208002</td>\n",
              "      <td>12.42632</td>\n",
              "    </tr>\n",
              "  </tbody>\n",
              "</table>\n",
              "</div>"
            ],
            "text/plain": [
              "       prg_pre_total_median  ...  p_rate2_mean\n",
              "group                        ...              \n",
              "0                  3.151439  ...      12.32222\n",
              "1                  0.000000  ...      14.40000\n",
              "2                 93.494730  ...      12.42632\n",
              "\n",
              "[3 rows x 9 columns]"
            ]
          },
          "metadata": {
            "tags": []
          },
          "execution_count": 43
        }
      ]
    },
    {
      "cell_type": "code",
      "metadata": {
        "id": "x0WGrdhPgQDM",
        "colab_type": "code",
        "outputId": "051626b6-2ca2-4e8a-8110-0e08c7f7f328",
        "colab": {
          "base_uri": "https://localhost:8080/",
          "height": 34
        }
      },
      "source": [
        "x_label=kmeans.labels_\n",
        "unique_elements, counts_elements = np.unique(x_label, return_counts=True)\n",
        "dic=dict(zip(unique_elements, counts_elements))\n",
        "dic"
      ],
      "execution_count": 0,
      "outputs": [
        {
          "output_type": "execute_result",
          "data": {
            "text/plain": [
              "{0: 33643, 1: 59590, 2: 39041}"
            ]
          },
          "metadata": {
            "tags": []
          },
          "execution_count": 44
        }
      ]
    },
    {
      "cell_type": "code",
      "metadata": {
        "id": "v740xDMbe0MI",
        "colab_type": "code",
        "outputId": "f8c4e45b-0135-48d3-c915-c3f443f4b3f1",
        "colab": {
          "base_uri": "https://localhost:8080/",
          "height": 170
        }
      },
      "source": [
        "df['con_pre_total_median'].describe()"
      ],
      "execution_count": 0,
      "outputs": [
        {
          "output_type": "execute_result",
          "data": {
            "text/plain": [
              "count    216992.000000\n",
              "mean         49.617276\n",
              "std          41.368830\n",
              "min           0.000000\n",
              "25%           3.095409\n",
              "50%          49.437945\n",
              "75%          96.463448\n",
              "max         100.000000\n",
              "Name: con_pre_total_median, dtype: float64"
            ]
          },
          "metadata": {
            "tags": []
          },
          "execution_count": 33
        }
      ]
    }
  ]
}